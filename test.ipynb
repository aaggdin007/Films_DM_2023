{
 "cells": [
  {
   "cell_type": "markdown",
   "id": "7323dd10",
   "metadata": {},
   "source": [
    "Webscraping\n"
   ]
  },
  {
   "cell_type": "code",
   "execution_count": 2,
   "id": "391ac9c3",
   "metadata": {},
   "outputs": [],
   "source": [
    "from IPython.display import display\n",
    "import json\n",
    "import pandas as pd\n",
    "pd.options.display.max_columns = None # Display all columns of a dataframe\n",
    "pd.options.display.max_rows = 700\n",
    "from pprint import pprint\n",
    "import re\n",
    "import requests\n",
    "from bs4 import BeautifulSoup"
   ]
  },
  {
   "cell_type": "code",
   "execution_count": 21,
   "id": "6cbb8526",
   "metadata": {},
   "outputs": [
    {
     "name": "stderr",
     "output_type": "stream",
     "text": [
      "C:\\Users\\User\\AppData\\Local\\Temp\\ipykernel_18608\\4193159110.py:10: DeprecationWarning: executable_path has been deprecated, please pass in a Service object\n",
      "  driver = webdriver.Chrome(executable_path=os.path.join(path, 'chromedriver'))\n"
     ]
    }
   ],
   "source": [
    "import os\n",
    "import time\n",
    "from selenium import webdriver\n",
    "from selenium.webdriver.common.by import By\n",
    "\n",
    "chromeOptions = webdriver.ChromeOptions()\n",
    "#it is way to add options\n",
    "\n",
    "path = 'C:/Users/User/Documents/Github/Films_DM_2023/chromedriver_win32/' #the path\n",
    "driver = webdriver.Chrome(executable_path=os.path.join(path, 'chromedriver'))\n",
    "\n",
    "driver.get(\"https://www.allocine.fr/\")\n",
    "time.sleep(1) # Let the user actually see something!"
   ]
  },
  {
   "cell_type": "code",
   "execution_count": 22,
   "id": "a2720368",
   "metadata": {},
   "outputs": [],
   "source": [
    "#Accepter les cookies pour pouvoir passer à la suite\n",
    "cookies = driver.find_element(By.CLASS_NAME, \"jad_cmp_paywall_button-cookies\").click()\n",
    "time.sleep(2)\n"
   ]
  },
  {
   "cell_type": "code",
   "execution_count": 23,
   "id": "67ebadb6",
   "metadata": {},
   "outputs": [],
   "source": [
    "#Aller dans films \n",
    "films = driver.find_element(By.XPATH, '//*[@title=\"Cinéma\"]').click()\n",
    "time.sleep(2)"
   ]
  },
  {
   "cell_type": "code",
   "execution_count": 24,
   "id": "7ab965a2",
   "metadata": {},
   "outputs": [],
   "source": [
    "#Aller dans films \n",
    "tous_films = driver.find_element(By.XPATH, '//*[@title=\"Tous les films\"]').click()\n",
    "time.sleep(2)\n"
   ]
  },
  {
   "cell_type": "code",
   "execution_count": 25,
   "id": "410dede8",
   "metadata": {},
   "outputs": [],
   "source": [
    "#Choisir les genres\n",
    "action =driver.find_element(By.XPATH,'//*[@id=\"filter-entity-mobile\"]/div/div[1]/select/option[2]').click()"
   ]
  },
  {
   "cell_type": "code",
   "execution_count": 29,
   "id": "89b652ed",
   "metadata": {},
   "outputs": [
    {
     "data": {
      "text/html": [
       "<div>\n",
       "<style scoped>\n",
       "    .dataframe tbody tr th:only-of-type {\n",
       "        vertical-align: middle;\n",
       "    }\n",
       "\n",
       "    .dataframe tbody tr th {\n",
       "        vertical-align: top;\n",
       "    }\n",
       "\n",
       "    .dataframe thead th {\n",
       "        text-align: right;\n",
       "    }\n",
       "</style>\n",
       "<table border=\"1\" class=\"dataframe\">\n",
       "  <thead>\n",
       "    <tr style=\"text-align: right;\">\n",
       "      <th></th>\n",
       "      <th>Titre</th>\n",
       "      <th>date_sortie</th>\n",
       "      <th>genres</th>\n",
       "    </tr>\n",
       "  </thead>\n",
       "  <tbody>\n",
       "    <tr>\n",
       "      <th>0</th>\n",
       "      <td>Super Mario Bros, le film</td>\n",
       "      <td>5 avril 2023</td>\n",
       "      <td>Action</td>\n",
       "    </tr>\n",
       "    <tr>\n",
       "      <th>1</th>\n",
       "      <td>John Wick : Chapitre 4</td>\n",
       "      <td>22 mars 2023</td>\n",
       "      <td>Action</td>\n",
       "    </tr>\n",
       "    <tr>\n",
       "      <th>2</th>\n",
       "      <td>Everything Everywhere All at Once</td>\n",
       "      <td>31 août 2022</td>\n",
       "      <td>Action</td>\n",
       "    </tr>\n",
       "    <tr>\n",
       "      <th>3</th>\n",
       "      <td>Shazam! La Rage des Dieux</td>\n",
       "      <td>29 mars 2023</td>\n",
       "      <td>Action</td>\n",
       "    </tr>\n",
       "    <tr>\n",
       "      <th>4</th>\n",
       "      <td>65 - la Terre d'avant</td>\n",
       "      <td>15 mars 2023</td>\n",
       "      <td>Action</td>\n",
       "    </tr>\n",
       "    <tr>\n",
       "      <th>5</th>\n",
       "      <td>Avatar : la voie de l'eau</td>\n",
       "      <td>14 décembre 2022</td>\n",
       "      <td>Action</td>\n",
       "    </tr>\n",
       "    <tr>\n",
       "      <th>6</th>\n",
       "      <td>John Wick</td>\n",
       "      <td>29 octobre 2014</td>\n",
       "      <td>Action</td>\n",
       "    </tr>\n",
       "    <tr>\n",
       "      <th>7</th>\n",
       "      <td>Operation Fortune: Ruse De Guerre</td>\n",
       "      <td>7 avril 2023</td>\n",
       "      <td>Action</td>\n",
       "    </tr>\n",
       "    <tr>\n",
       "      <th>8</th>\n",
       "      <td>Ant-Man et la Guêpe : Quantumania</td>\n",
       "      <td>15 février 2023</td>\n",
       "      <td>Action</td>\n",
       "    </tr>\n",
       "    <tr>\n",
       "      <th>9</th>\n",
       "      <td>Braquage Final</td>\n",
       "      <td>30 avril 2021</td>\n",
       "      <td>Action</td>\n",
       "    </tr>\n",
       "    <tr>\n",
       "      <th>10</th>\n",
       "      <td>L'Intervention</td>\n",
       "      <td>30 janvier 2019</td>\n",
       "      <td>Action</td>\n",
       "    </tr>\n",
       "    <tr>\n",
       "      <th>11</th>\n",
       "      <td>The Gentlemen</td>\n",
       "      <td>5 février 2020</td>\n",
       "      <td>Action</td>\n",
       "    </tr>\n",
       "    <tr>\n",
       "      <th>12</th>\n",
       "      <td>Wonder Woman 1984</td>\n",
       "      <td>31 mars 2021</td>\n",
       "      <td>Action</td>\n",
       "    </tr>\n",
       "    <tr>\n",
       "      <th>13</th>\n",
       "      <td>John Wick Parabellum</td>\n",
       "      <td>22 mai 2019</td>\n",
       "      <td>Action</td>\n",
       "    </tr>\n",
       "    <tr>\n",
       "      <th>14</th>\n",
       "      <td>The Host</td>\n",
       "      <td>22 novembre 2006</td>\n",
       "      <td>Action</td>\n",
       "    </tr>\n",
       "  </tbody>\n",
       "</table>\n",
       "</div>"
      ],
      "text/plain": [
       "                                Titre       date_sortie  genres\n",
       "0           Super Mario Bros, le film      5 avril 2023  Action\n",
       "1              John Wick : Chapitre 4      22 mars 2023  Action\n",
       "2   Everything Everywhere All at Once      31 août 2022  Action\n",
       "3           Shazam! La Rage des Dieux      29 mars 2023  Action\n",
       "4               65 - la Terre d'avant      15 mars 2023  Action\n",
       "5           Avatar : la voie de l'eau  14 décembre 2022  Action\n",
       "6                           John Wick   29 octobre 2014  Action\n",
       "7   Operation Fortune: Ruse De Guerre      7 avril 2023  Action\n",
       "8   Ant-Man et la Guêpe : Quantumania   15 février 2023  Action\n",
       "9                      Braquage Final     30 avril 2021  Action\n",
       "10                     L'Intervention   30 janvier 2019  Action\n",
       "11                      The Gentlemen    5 février 2020  Action\n",
       "12                  Wonder Woman 1984      31 mars 2021  Action\n",
       "13               John Wick Parabellum       22 mai 2019  Action\n",
       "14                           The Host  22 novembre 2006  Action"
      ]
     },
     "execution_count": 29,
     "metadata": {},
     "output_type": "execute_result"
    }
   ],
   "source": [
    "#Avoir feuille par feuille\n",
    "films =[]\n",
    "for each_fiche in driver.find_elements(By.CLASS_NAME,'mdl'):\n",
    "    #titres\n",
    "    titre=each_fiche.find_element(By.CLASS_NAME, \"meta-title-link\").text\n",
    "    #date sortie\n",
    "    date_sortie= each_fiche.find_element(By.CLASS_NAME, \"date\").text\n",
    "    #durée\n",
    "    #date_sortie= each_quote.find_element(By.CLASS_NAME, \"date\").text\n",
    "    #genres\n",
    "    genres= each_fiche.find_element(By.CLASS_NAME, \"xXx\").text #faut réussir à mettre plusieurs genres\n",
    "    films.append({\n",
    "                \"Titre\": titre,\n",
    "                \"date_sortie\" : date_sortie,\n",
    "                \"genres\": genres,\n",
    "            })\n",
    "#dataframe\n",
    "films_data = pd.DataFrame(films)\n",
    "films_data\n",
    "\n"
   ]
  },
  {
   "cell_type": "code",
   "execution_count": null,
   "id": "4b8096d2",
   "metadata": {},
   "outputs": [],
   "source": []
  }
 ],
 "metadata": {
  "kernelspec": {
   "display_name": "Python 3 (ipykernel)",
   "language": "python",
   "name": "python3"
  },
  "language_info": {
   "codemirror_mode": {
    "name": "ipython",
    "version": 3
   },
   "file_extension": ".py",
   "mimetype": "text/x-python",
   "name": "python",
   "nbconvert_exporter": "python",
   "pygments_lexer": "ipython3",
   "version": "3.9.13"
  }
 },
 "nbformat": 4,
 "nbformat_minor": 5
}
