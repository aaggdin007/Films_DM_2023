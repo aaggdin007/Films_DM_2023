{
 "cells": [
  {
   "cell_type": "markdown",
   "id": "d4fb25ea",
   "metadata": {},
   "source": [
    "Webscraping\n"
   ]
  },
  {
   "cell_type": "code",
   "execution_count": 2,
   "id": "fc59fc85",
   "metadata": {},
   "outputs": [],
   "source": [
    "from IPython.display import display\n",
    "import json\n",
    "import pandas as pd\n",
    "pd.options.display.max_columns = None # Display all columns of a dataframe\n",
    "pd.options.display.max_rows = 700\n",
    "from pprint import pprint\n",
    "import re\n",
    "import requests\n",
    "from bs4 import BeautifulSoup"
   ]
  },
  {
   "cell_type": "code",
   "execution_count": 14,
   "id": "d7663b4f",
   "metadata": {},
   "outputs": [
    {
     "name": "stderr",
     "output_type": "stream",
     "text": [
      "C:\\Users\\User\\AppData\\Local\\Temp\\ipykernel_18608\\4193159110.py:10: DeprecationWarning: executable_path has been deprecated, please pass in a Service object\n",
      "  driver = webdriver.Chrome(executable_path=os.path.join(path, 'chromedriver'))\n"
     ]
    }
   ],
   "source": [
    "import os\n",
    "import time\n",
    "from selenium import webdriver\n",
    "from selenium.webdriver.common.by import By\n",
    "\n",
    "chromeOptions = webdriver.ChromeOptions()\n",
    "#it is way to add options\n",
    "\n",
    "path = 'C:/Users/User/Documents/Github/Films_DM_2023/chromedriver_win32/' #the path\n",
    "driver = webdriver.Chrome(executable_path=os.path.join(path, 'chromedriver'))\n",
    "\n",
    "driver.get(\"https://www.allocine.fr/\")\n",
    "time.sleep(1) # Let the user actually see something!"
   ]
  },
  {
   "cell_type": "code",
   "execution_count": 15,
   "id": "657f0a60",
   "metadata": {},
   "outputs": [],
   "source": [
    "#Accepter les cookies pour pouvoir passer à la suite\n",
    "cookies = driver.find_element(By.CLASS_NAME, \"jad_cmp_paywall_button-cookies\").click()\n",
    "time.sleep(2)\n",
    "\n",
    "#Aller dans films \n",
    "films = driver.find_element()\n"
   ]
  },
  {
   "cell_type": "code",
   "execution_count": null,
   "id": "f7212ba3",
   "metadata": {},
   "outputs": [],
   "source": []
  }
 ],
 "metadata": {
  "kernelspec": {
   "display_name": "Python 3 (ipykernel)",
   "language": "python",
   "name": "python3"
  },
  "language_info": {
   "codemirror_mode": {
    "name": "ipython",
    "version": 3
   },
   "file_extension": ".py",
   "mimetype": "text/x-python",
   "name": "python",
   "nbconvert_exporter": "python",
   "pygments_lexer": "ipython3",
   "version": "3.9.13"
  }
 },
 "nbformat": 4,
 "nbformat_minor": 5
}
